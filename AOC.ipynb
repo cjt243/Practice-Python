{
 "cells": [
  {
   "cell_type": "markdown",
   "metadata": {},
   "source": [
    "## Question 1"
   ]
  },
  {
   "cell_type": "code",
   "execution_count": 26,
   "metadata": {},
   "outputs": [],
   "source": [
    "with open('AOC1.txt') as f:\n",
    "    input1 = f.readlines() #read each line into a list\n",
    "    input1 = [int(x.strip()) for x in input1] #strip newline characters and convert to int\n",
    "    input1 = [int(x/3)-2 for x in input1] #divide by 3 and convert to int to \"round down\", subtract 2"
   ]
  },
  {
   "cell_type": "code",
   "execution_count": 28,
   "metadata": {},
   "outputs": [],
   "source": [
    "answer1 = sum(input1)"
   ]
  },
  {
   "cell_type": "code",
   "execution_count": 43,
   "metadata": {},
   "outputs": [
    {
     "data": {
      "text/plain": [
       "3262358"
      ]
     },
     "execution_count": 43,
     "metadata": {},
     "output_type": "execute_result"
    }
   ],
   "source": [
    "answer1"
   ]
  },
  {
   "cell_type": "markdown",
   "metadata": {},
   "source": [
    "___"
   ]
  },
  {
   "cell_type": "markdown",
   "metadata": {},
   "source": [
    "## Question 2"
   ]
  },
  {
   "cell_type": "code",
   "execution_count": 52,
   "metadata": {},
   "outputs": [],
   "source": [
    "def fuel_fuel(amount):\n",
    "    check = amount \n",
    "    fuel = []\n",
    "    while check > 0:\n",
    "        check = int(check/3)-2\n",
    "        if check <= 0: #if check value is negative, set it to 0\n",
    "            check = 0\n",
    "        fuel.append(check) #add the check value to the fuel list, then reuse for next calc\n",
    "#         print(check)\n",
    "    return sum(fuel)"
   ]
  },
  {
   "cell_type": "code",
   "execution_count": 56,
   "metadata": {},
   "outputs": [],
   "source": [
    "with open('AOC1.txt') as f:\n",
    "    input1 = f.readlines() #read each line into a list\n",
    "    input1 = [int(x.strip()) for x in input1] #strip newline characters and convert to int\n",
    "    input1 = [fuel_fuel(x) for x in input1] #run the function to calculate fuel mass for fuel down to 0"
   ]
  },
  {
   "cell_type": "code",
   "execution_count": 57,
   "metadata": {},
   "outputs": [],
   "source": [
    "answer2 = sum(input1)"
   ]
  },
  {
   "cell_type": "code",
   "execution_count": 58,
   "metadata": {},
   "outputs": [
    {
     "data": {
      "text/plain": [
       "4890696"
      ]
     },
     "execution_count": 58,
     "metadata": {},
     "output_type": "execute_result"
    }
   ],
   "source": [
    "answer2"
   ]
  },
  {
   "cell_type": "markdown",
   "metadata": {},
   "source": [
    "___"
   ]
  },
  {
   "cell_type": "markdown",
   "metadata": {},
   "source": [
    "## Question 3"
   ]
  },
  {
   "cell_type": "code",
   "execution_count": 127,
   "metadata": {},
   "outputs": [],
   "source": [
    "input2 = [1,0,0,3,1,1,2,3,1,3,4,3,1,5,0,3,2,1,10,19,1,19,6,23,2,23,13,27,1,27,5,31,2,31,10,35,1,9,35,39,1,39,9,43,2,9,43,47,1,5,47,51,2,13,51,55,1,55,9,59,2,6,59,63,1,63,5,67,1,10,67,71,1,71,10,75,2,75,13,79,2,79,13,83,1,5,83,87,1,87,6,91,2,91,13,95,1,5,95,99,1,99,2,103,1,103,6,0,99,2,14,0,0]"
   ]
  },
  {
   "cell_type": "code",
   "execution_count": 128,
   "metadata": {},
   "outputs": [],
   "source": [
    "#spec to opcode instructions\n",
    "def intcode_computer(instruction):\n",
    "    pointer = 0\n",
    "    instruction[1] = 12\n",
    "    instruction[2] = 2\n",
    "    opcode = instruction[0]\n",
    "    \n",
    "    while opcode != 99:\n",
    "        value1 = instruction[instruction[pointer+1]]\n",
    "        value2 = instruction[instruction[pointer+2]]\n",
    "        \n",
    "        if opcode == 1:\n",
    "            answer = value1 + value2\n",
    "        elif opcode == 2:\n",
    "            answer = value1 * value2\n",
    "        else:\n",
    "            break\n",
    "            \n",
    "        instruction[instruction[pointer+3]] = answer\n",
    "        pointer = pointer + 4\n",
    "        opcode = instruction[pointer]\n",
    "    \n",
    "    return instruction[0]"
   ]
  },
  {
   "cell_type": "code",
   "execution_count": 129,
   "metadata": {},
   "outputs": [
    {
     "data": {
      "text/plain": [
       "190643"
      ]
     },
     "execution_count": 129,
     "metadata": {},
     "output_type": "execute_result"
    }
   ],
   "source": [
    "intcode_computer(input2)"
   ]
  },
  {
   "cell_type": "markdown",
   "metadata": {},
   "source": [
    "___"
   ]
  },
  {
   "cell_type": "markdown",
   "metadata": {},
   "source": [
    "## Question 4"
   ]
  },
  {
   "cell_type": "code",
   "execution_count": 14,
   "metadata": {},
   "outputs": [],
   "source": [
    "input2 = [1,0,0,3,1,1,2,3,1,3,4,3,1,5,0,3,2,1,10,19,1,19,6,23,2,23,13,27,1,27,5,31,2,31,10,35,1,9,35,39,1,39,9,43,2,9,43,47,1,5,47,51,2,13,51,55,1,55,9,59,2,6,59,63,1,63,5,67,1,10,67,71,1,71,10,75,2,75,13,79,2,79,13,83,1,5,83,87,1,87,6,91,2,91,13,95,1,5,95,99,1,99,2,103,1,103,6,0,99,2,14,0,0]"
   ]
  },
  {
   "cell_type": "code",
   "execution_count": 15,
   "metadata": {},
   "outputs": [],
   "source": [
    "def intcode_computer(instruction,noun,verb):\n",
    "#     print(instruction[0:4])\n",
    "    pointer = 0\n",
    "    instruction[1] = noun\n",
    "    instruction[2] = verb\n",
    "#     print(instruction[1],instruction[2])\n",
    "    opcode = instruction[0]\n",
    "    \n",
    "    while opcode != 99:\n",
    "        value1 = instruction[instruction[pointer+1]]\n",
    "        value2 = instruction[instruction[pointer+2]]\n",
    "        \n",
    "        if opcode == 1:\n",
    "            answer = value1 + value2\n",
    "        elif opcode == 2:\n",
    "            answer = value1 * value2\n",
    "        else:\n",
    "            break\n",
    "            \n",
    "        instruction[instruction[pointer+3]] = answer\n",
    "        pointer = pointer + 4\n",
    "        opcode = instruction[pointer]\n",
    "    \n",
    "    return instruction[0]"
   ]
  },
  {
   "cell_type": "code",
   "execution_count": 20,
   "metadata": {},
   "outputs": [],
   "source": [
    "# pass in variable params n,v from 0 to 99. Find params where list[0] = 19690720\n",
    "for n in range(0,100):\n",
    "    if answer == 19690720:\n",
    "        break\n",
    "    for v in range(0,100):\n",
    "        answer = intcode_computer(input2.copy(),int(n),int(v)) #pass a copy of input2 to avoid overwriting list in memory\n",
    "#         print(answer,n,v)\n",
    "        if answer == 19690720:\n",
    "            output = [answer,n,v]\n",
    "            break\n",
    "        else:\n",
    "            next"
   ]
  },
  {
   "cell_type": "code",
   "execution_count": 21,
   "metadata": {
    "scrolled": true
   },
   "outputs": [
    {
     "data": {
      "text/plain": [
       "6577"
      ]
     },
     "execution_count": 21,
     "metadata": {},
     "output_type": "execute_result"
    }
   ],
   "source": [
    "100 * output[1] + output[2]"
   ]
  },
  {
   "cell_type": "markdown",
   "metadata": {},
   "source": [
    "___"
   ]
  },
  {
   "cell_type": "markdown",
   "metadata": {},
   "source": [
    "## Question 5"
   ]
  },
  {
   "cell_type": "code",
   "execution_count": 81,
   "metadata": {},
   "outputs": [],
   "source": [
    "#read in wire directions\n",
    "with open('wire1.txt') as f:\n",
    "    wire1 = f.read().split(',')\n",
    "with open('wire2.txt') as f:\n",
    "    wire2 = f.read().split(',')"
   ]
  },
  {
   "cell_type": "code",
   "execution_count": 83,
   "metadata": {},
   "outputs": [],
   "source": [
    "def map_wire(schema):\n",
    "    point = [int(0),int(0)] #initialize 0,0 as the starting point\n",
    "    line_coordinates = [] #initialize list to store coordinates in\n",
    "    \n",
    "    #based on the first character, operate on the x or y coordinate\n",
    "    for direction in schema:\n",
    "        if direction[0] == 'R':\n",
    "            for i in range(1,int(direction[1:len(direction)])+1): #len(direction) because there isn't static number of digits\n",
    "                point[0] = point[0] + 1\n",
    "                line_coordinates.append(point[:])\n",
    "\n",
    "        elif direction[0] == 'L':\n",
    "            #subtract from x\n",
    "            for i in range(1,int(direction[1:len(direction)])+1):\n",
    "                point[0] = point[0] - 1\n",
    "                line_coordinates.append(point[:])\n",
    "\n",
    "        elif direction[0] == 'U':\n",
    "            #add to y\n",
    "            for i in range(1,int(direction[1:len(direction)])+1):\n",
    "                point[1] = point[1] + 1\n",
    "                line_coordinates.append(point[:])\n",
    "\n",
    "        elif direction[0] == 'D':\n",
    "            #subtract from y\n",
    "            for i in range(1,int(direction[1:len(direction)])+1):\n",
    "                point[1] = point[1] - 1\n",
    "                line_coordinates.append(point[:])\n",
    "\n",
    "        else:\n",
    "            print('Bad Direction')\n",
    "    line_coordinates = [str(x[0])+','+str(x[1]) for x in line_coordinates] #turn each point to string for easy inner join\n",
    "    return line_coordinates"
   ]
  },
  {
   "cell_type": "code",
   "execution_count": 74,
   "metadata": {},
   "outputs": [],
   "source": [
    "wire_1_out = map_wire(wire1)\n",
    "wire_2_out = map_wire(wire2)\n",
    "intersections = list(set(wire_1_out) & set(wire_2_out)) #only return common set between two coordinate lists"
   ]
  },
  {
   "cell_type": "code",
   "execution_count": 76,
   "metadata": {},
   "outputs": [],
   "source": [
    "#turn each coordinate to an integer and add the absolute value of each int\n",
    "manhattan_dist = [abs(int(x.split(',')[0])) + abs(int(x.split(',')[1])) for x in intersections]"
   ]
  },
  {
   "cell_type": "code",
   "execution_count": 78,
   "metadata": {},
   "outputs": [
    {
     "data": {
      "text/plain": [
       "1084"
      ]
     },
     "execution_count": 78,
     "metadata": {},
     "output_type": "execute_result"
    }
   ],
   "source": [
    "min(manhattan_dist) #find the min manhattan distance of the intersection set"
   ]
  },
  {
   "cell_type": "markdown",
   "metadata": {},
   "source": [
    "___"
   ]
  },
  {
   "cell_type": "markdown",
   "metadata": {},
   "source": [
    "## Question 6"
   ]
  },
  {
   "cell_type": "code",
   "execution_count": 5,
   "metadata": {},
   "outputs": [],
   "source": [
    "import pandas as pd"
   ]
  },
  {
   "cell_type": "code",
   "execution_count": 31,
   "metadata": {},
   "outputs": [],
   "source": [
    "#read in wire directions\n",
    "with open('wire1.txt') as f:\n",
    "    wire1 = f.read().split(',')\n",
    "with open('wire2.txt') as f:\n",
    "    wire2 = f.read().split(',')"
   ]
  },
  {
   "cell_type": "code",
   "execution_count": 32,
   "metadata": {},
   "outputs": [],
   "source": [
    "def map_wire_2(schema):\n",
    "    point = [int(0),int(0),int(0)] #initialize 0,0 as the starting point\n",
    "    line_coordinates = [] #initialize list to store coordinates in\n",
    "    \n",
    "    #based on the first character, operate on the x or y coordinate\n",
    "    for direction in schema:\n",
    "        if direction[0] == 'R':\n",
    "            for i in range(1,int(direction[1:len(direction)])+1): #len(direction) because there isn't static number of digits\n",
    "                point[0] = point[0] + 1\n",
    "                point[2] = point[2] + 1\n",
    "                line_coordinates.append(point[:])\n",
    "\n",
    "        elif direction[0] == 'L':\n",
    "            #subtract from x\n",
    "            for i in range(1,int(direction[1:len(direction)])+1):\n",
    "                point[0] = point[0] - 1\n",
    "                point[2] = point[2] + 1\n",
    "                line_coordinates.append(point[:])\n",
    "\n",
    "        elif direction[0] == 'U':\n",
    "            #add to y\n",
    "            for i in range(1,int(direction[1:len(direction)])+1):\n",
    "                point[1] = point[1] + 1\n",
    "                point[2] = point[2] + 1\n",
    "                line_coordinates.append(point[:])\n",
    "\n",
    "        elif direction[0] == 'D':\n",
    "            #subtract from y\n",
    "            for i in range(1,int(direction[1:len(direction)])+1):\n",
    "                point[1] = point[1] - 1\n",
    "                point[2] = point[2] + 1\n",
    "                line_coordinates.append(point[:])\n",
    "\n",
    "        else:\n",
    "            print('Bad Direction')\n",
    "    line_coordinates = [str(x[0])+','+str(x[1])+','+str(x[2]) for x in line_coordinates] #turn each point to string for easy inner join\n",
    "    return line_coordinates"
   ]
  },
  {
   "cell_type": "code",
   "execution_count": 33,
   "metadata": {},
   "outputs": [],
   "source": [
    "wire_1_out = map_wire_2(wire1)\n",
    "wire_2_out = map_wire_2(wire2)\n",
    "\n",
    "wire_1_out = [[x.split(',')[0]+','+x.split(',')[1],int(x.split(',')[2])] for x in wire_1_out]\n",
    "wire_2_out = [[x.split(',')[0]+','+x.split(',')[1],int(x.split(',')[2])] for x in wire_2_out]"
   ]
  },
  {
   "cell_type": "code",
   "execution_count": 34,
   "metadata": {},
   "outputs": [],
   "source": [
    "pd_1 = pd.DataFrame(wire_1_out,columns=['coordinates','steps-1'])\n",
    "pd_2 = pd.DataFrame(wire_2_out,columns=['coordinates','steps-2'])"
   ]
  },
  {
   "cell_type": "code",
   "execution_count": 35,
   "metadata": {},
   "outputs": [],
   "source": [
    "merged_inner = pd.merge(left=pd_1,right=pd_2, left_on='coordinates', right_on='coordinates')"
   ]
  },
  {
   "cell_type": "code",
   "execution_count": 36,
   "metadata": {},
   "outputs": [
    {
     "data": {
      "text/html": [
       "<div>\n",
       "<style scoped>\n",
       "    .dataframe tbody tr th:only-of-type {\n",
       "        vertical-align: middle;\n",
       "    }\n",
       "\n",
       "    .dataframe tbody tr th {\n",
       "        vertical-align: top;\n",
       "    }\n",
       "\n",
       "    .dataframe thead th {\n",
       "        text-align: right;\n",
       "    }\n",
       "</style>\n",
       "<table border=\"1\" class=\"dataframe\">\n",
       "  <thead>\n",
       "    <tr style=\"text-align: right;\">\n",
       "      <th></th>\n",
       "      <th>coordinates</th>\n",
       "      <th>steps-1</th>\n",
       "      <th>steps-2</th>\n",
       "    </tr>\n",
       "  </thead>\n",
       "  <tbody>\n",
       "    <tr>\n",
       "      <th>0</th>\n",
       "      <td>-309,1465</td>\n",
       "      <td>4460</td>\n",
       "      <td>5288</td>\n",
       "    </tr>\n",
       "    <tr>\n",
       "      <th>1</th>\n",
       "      <td>-904,1465</td>\n",
       "      <td>5055</td>\n",
       "      <td>4185</td>\n",
       "    </tr>\n",
       "    <tr>\n",
       "      <th>2</th>\n",
       "      <td>-904,1227</td>\n",
       "      <td>5571</td>\n",
       "      <td>3947</td>\n",
       "    </tr>\n",
       "    <tr>\n",
       "      <th>3</th>\n",
       "      <td>-309,1227</td>\n",
       "      <td>6166</td>\n",
       "      <td>5526</td>\n",
       "    </tr>\n",
       "    <tr>\n",
       "      <th>4</th>\n",
       "      <td>-309,1636</td>\n",
       "      <td>6607</td>\n",
       "      <td>5117</td>\n",
       "    </tr>\n",
       "    <tr>\n",
       "      <th>5</th>\n",
       "      <td>-309,1701</td>\n",
       "      <td>6848</td>\n",
       "      <td>5052</td>\n",
       "    </tr>\n",
       "    <tr>\n",
       "      <th>6</th>\n",
       "      <td>-309,1021</td>\n",
       "      <td>7894</td>\n",
       "      <td>5732</td>\n",
       "    </tr>\n",
       "    <tr>\n",
       "      <th>7</th>\n",
       "      <td>-727,1719</td>\n",
       "      <td>9010</td>\n",
       "      <td>4616</td>\n",
       "    </tr>\n",
       "    <tr>\n",
       "      <th>8</th>\n",
       "      <td>-359,725</td>\n",
       "      <td>10868</td>\n",
       "      <td>6078</td>\n",
       "    </tr>\n",
       "    <tr>\n",
       "      <th>9</th>\n",
       "      <td>-309,1612</td>\n",
       "      <td>12477</td>\n",
       "      <td>5141</td>\n",
       "    </tr>\n",
       "    <tr>\n",
       "      <th>10</th>\n",
       "      <td>-458,1719</td>\n",
       "      <td>21227</td>\n",
       "      <td>4885</td>\n",
       "    </tr>\n",
       "    <tr>\n",
       "      <th>11</th>\n",
       "      <td>-904,1475</td>\n",
       "      <td>21917</td>\n",
       "      <td>4195</td>\n",
       "    </tr>\n",
       "    <tr>\n",
       "      <th>12</th>\n",
       "      <td>-904,1456</td>\n",
       "      <td>22610</td>\n",
       "      <td>4176</td>\n",
       "    </tr>\n",
       "    <tr>\n",
       "      <th>13</th>\n",
       "      <td>-309,1185</td>\n",
       "      <td>23476</td>\n",
       "      <td>5568</td>\n",
       "    </tr>\n",
       "    <tr>\n",
       "      <th>14</th>\n",
       "      <td>-505,1719</td>\n",
       "      <td>24998</td>\n",
       "      <td>4838</td>\n",
       "    </tr>\n",
       "    <tr>\n",
       "      <th>15</th>\n",
       "      <td>-904,1211</td>\n",
       "      <td>25905</td>\n",
       "      <td>3931</td>\n",
       "    </tr>\n",
       "    <tr>\n",
       "      <th>16</th>\n",
       "      <td>-1984,1177</td>\n",
       "      <td>27185</td>\n",
       "      <td>35747</td>\n",
       "    </tr>\n",
       "    <tr>\n",
       "      <th>17</th>\n",
       "      <td>-1978,1423</td>\n",
       "      <td>27437</td>\n",
       "      <td>35495</td>\n",
       "    </tr>\n",
       "    <tr>\n",
       "      <th>18</th>\n",
       "      <td>-501,1719</td>\n",
       "      <td>146672</td>\n",
       "      <td>4842</td>\n",
       "    </tr>\n",
       "    <tr>\n",
       "      <th>19</th>\n",
       "      <td>-309,1503</td>\n",
       "      <td>147080</td>\n",
       "      <td>5250</td>\n",
       "    </tr>\n",
       "  </tbody>\n",
       "</table>\n",
       "</div>"
      ],
      "text/plain": [
       "   coordinates  steps-1  steps-2\n",
       "0    -309,1465     4460     5288\n",
       "1    -904,1465     5055     4185\n",
       "2    -904,1227     5571     3947\n",
       "3    -309,1227     6166     5526\n",
       "4    -309,1636     6607     5117\n",
       "5    -309,1701     6848     5052\n",
       "6    -309,1021     7894     5732\n",
       "7    -727,1719     9010     4616\n",
       "8     -359,725    10868     6078\n",
       "9    -309,1612    12477     5141\n",
       "10   -458,1719    21227     4885\n",
       "11   -904,1475    21917     4195\n",
       "12   -904,1456    22610     4176\n",
       "13   -309,1185    23476     5568\n",
       "14   -505,1719    24998     4838\n",
       "15   -904,1211    25905     3931\n",
       "16  -1984,1177    27185    35747\n",
       "17  -1978,1423    27437    35495\n",
       "18   -501,1719   146672     4842\n",
       "19   -309,1503   147080     5250"
      ]
     },
     "execution_count": 36,
     "metadata": {},
     "output_type": "execute_result"
    }
   ],
   "source": [
    "merged_inner"
   ]
  },
  {
   "cell_type": "code",
   "execution_count": 37,
   "metadata": {},
   "outputs": [],
   "source": [
    "merged_inner['total'] = merged_inner['steps-1']+ merged_inner['steps-2']"
   ]
  },
  {
   "cell_type": "code",
   "execution_count": 39,
   "metadata": {},
   "outputs": [
    {
     "data": {
      "text/plain": [
       "9240"
      ]
     },
     "execution_count": 39,
     "metadata": {},
     "output_type": "execute_result"
    }
   ],
   "source": [
    "min(merged_inner['total'])"
   ]
  },
  {
   "cell_type": "markdown",
   "metadata": {},
   "source": [
    "___"
   ]
  },
  {
   "cell_type": "markdown",
   "metadata": {},
   "source": [
    "## Question 7"
   ]
  },
  {
   "cell_type": "code",
   "execution_count": 15,
   "metadata": {},
   "outputs": [],
   "source": [
    "possibilities = []\n",
    "for number in range(138307,654504):\n",
    "    n = list(str(number))\n",
    "    n = [int(x) for x in n]\n",
    "    if n[0] == n[1] or n[1] == n[2] or n[2] == n[3] or n[3] == n[4] or n[4] == n[5]:\n",
    "        possibilities.append(number)\n",
    "        "
   ]
  },
  {
   "cell_type": "code",
   "execution_count": 16,
   "metadata": {},
   "outputs": [
    {
     "data": {
      "text/plain": [
       "1855"
      ]
     },
     "execution_count": 16,
     "metadata": {},
     "output_type": "execute_result"
    }
   ],
   "source": [
    "len(possibilities)"
   ]
  },
  {
   "cell_type": "markdown",
   "metadata": {},
   "source": [
    "___"
   ]
  },
  {
   "cell_type": "markdown",
   "metadata": {},
   "source": [
    "## Question 8"
   ]
  },
  {
   "cell_type": "code",
   "execution_count": 18,
   "metadata": {},
   "outputs": [],
   "source": [
    "import re"
   ]
  },
  {
   "cell_type": "code",
   "execution_count": 70,
   "metadata": {},
   "outputs": [],
   "source": [
    "possibilities = []\n",
    "for number in range(138307,654504):\n",
    "    n = list(str(number))\n",
    "    n = [int(x) for x in n]\n",
    "    if n[0] == n[1] or n[1] == n[2] or n[2] == n[3] or n[3] == n[4] or n[4] == n[5]:\n",
    "        if n[0] <= n[1] <= n[2] <= n[3] <= n[4] <= n[5]:\n",
    "            if bool(re.search(r\"(\\d)\\1{2}\", str(number))):\n",
    "                possibilities.append(number)\n",
    "        \n"
   ]
  },
  {
   "cell_type": "code",
   "execution_count": 71,
   "metadata": {},
   "outputs": [
    {
     "data": {
      "text/plain": [
       "988"
      ]
     },
     "execution_count": 71,
     "metadata": {},
     "output_type": "execute_result"
    }
   ],
   "source": [
    "len(possibilities)"
   ]
  }
 ],
 "metadata": {
  "kernelspec": {
   "display_name": "Python 3",
   "language": "python",
   "name": "python3"
  },
  "language_info": {
   "codemirror_mode": {
    "name": "ipython",
    "version": 3
   },
   "file_extension": ".py",
   "mimetype": "text/x-python",
   "name": "python",
   "nbconvert_exporter": "python",
   "pygments_lexer": "ipython3",
   "version": "3.6.9"
  }
 },
 "nbformat": 4,
 "nbformat_minor": 2
}
